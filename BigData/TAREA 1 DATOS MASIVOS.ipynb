{
 "cells": [
  {
   "cell_type": "code",
   "execution_count": 1,
   "metadata": {
    "ExecuteTime": {
     "end_time": "2025-09-12T05:54:48.506844Z",
     "start_time": "2025-09-12T05:26:49.716001Z"
    }
   },
   "outputs": [
    {
     "name": "stdout",
     "output_type": "stream",
     "text": [
      "✅ Variables configuradas para macOS\n"
     ]
    },
    {
     "ename": "KeyboardInterrupt",
     "evalue": "",
     "output_type": "error",
     "traceback": [
      "\u001b[0;31m---------------------------------------------------------------------------\u001b[0m",
      "\u001b[0;31mKeyboardInterrupt\u001b[0m                         Traceback (most recent call last)",
      "Cell \u001b[0;32mIn[1], line 29\u001b[0m\n\u001b[1;32m     21\u001b[0m \u001b[38;5;28;01mimport\u001b[39;00m \u001b[38;5;21;01mpyspark\u001b[39;00m\u001b[38;5;21;01m.\u001b[39;00m\u001b[38;5;21;01msql\u001b[39;00m\u001b[38;5;21;01m.\u001b[39;00m\u001b[38;5;21;01mfunctions\u001b[39;00m \u001b[38;5;28;01mas\u001b[39;00m \u001b[38;5;21;01mF\u001b[39;00m\n\u001b[1;32m     23\u001b[0m \u001b[38;5;66;03m# Misma configuración que Colab pero adaptada\u001b[39;00m\n\u001b[1;32m     24\u001b[0m spark \u001b[38;5;241m=\u001b[39m \u001b[43mSparkSession\u001b[49m\u001b[43m \u001b[49m\u001b[43m\\\u001b[49m\n\u001b[1;32m     25\u001b[0m \u001b[43m    \u001b[49m\u001b[38;5;241;43m.\u001b[39;49m\u001b[43mbuilder\u001b[49m\u001b[43m \u001b[49m\u001b[43m\\\u001b[49m\n\u001b[1;32m     26\u001b[0m \u001b[43m    \u001b[49m\u001b[38;5;241;43m.\u001b[39;49m\u001b[43mappName\u001b[49m\u001b[43m(\u001b[49m\u001b[38;5;124;43m\"\u001b[39;49m\u001b[38;5;124;43mEjercicio de Individual\u001b[39;49m\u001b[38;5;124;43m\"\u001b[39;49m\u001b[43m)\u001b[49m\u001b[43m \u001b[49m\u001b[43m\\\u001b[49m\n\u001b[1;32m     27\u001b[0m \u001b[43m    \u001b[49m\u001b[38;5;241;43m.\u001b[39;49m\u001b[43mmaster\u001b[49m\u001b[43m(\u001b[49m\u001b[38;5;124;43m\"\u001b[39;49m\u001b[38;5;124;43mlocal[*]\u001b[39;49m\u001b[38;5;124;43m\"\u001b[39;49m\u001b[43m)\u001b[49m\u001b[43m \u001b[49m\u001b[43m\\\u001b[49m\n\u001b[1;32m     28\u001b[0m \u001b[43m    \u001b[49m\u001b[38;5;241;43m.\u001b[39;49m\u001b[43mconfig\u001b[49m\u001b[43m(\u001b[49m\u001b[38;5;124;43m\"\u001b[39;49m\u001b[38;5;124;43mspark.driver.memory\u001b[39;49m\u001b[38;5;124;43m\"\u001b[39;49m\u001b[43m,\u001b[49m\u001b[43m \u001b[49m\u001b[38;5;124;43m\"\u001b[39;49m\u001b[38;5;124;43m2g\u001b[39;49m\u001b[38;5;124;43m\"\u001b[39;49m\u001b[43m)\u001b[49m\u001b[43m \u001b[49m\u001b[43m\\\u001b[49m\n\u001b[0;32m---> 29\u001b[0m \u001b[43m    \u001b[49m\u001b[38;5;241;43m.\u001b[39;49m\u001b[43mgetOrCreate\u001b[49m\u001b[43m(\u001b[49m\u001b[43m)\u001b[49m\n\u001b[1;32m     31\u001b[0m spark\u001b[38;5;241m.\u001b[39msparkContext\u001b[38;5;241m.\u001b[39msetLogLevel(\u001b[38;5;124m\"\u001b[39m\u001b[38;5;124mERROR\u001b[39m\u001b[38;5;124m\"\u001b[39m)\n\u001b[1;32m     33\u001b[0m \u001b[38;5;28mprint\u001b[39m(\u001b[38;5;124m\"\u001b[39m\u001b[38;5;124m🔥 ¡Spark funcionando localmente!\u001b[39m\u001b[38;5;124m\"\u001b[39m)\n",
      "File \u001b[0;32m~/miniconda3/envs/NLP310/lib/python3.10/site-packages/pyspark/sql/session.py:497\u001b[0m, in \u001b[0;36mSparkSession.Builder.getOrCreate\u001b[0;34m(self)\u001b[0m\n\u001b[1;32m    495\u001b[0m     sparkConf\u001b[38;5;241m.\u001b[39mset(key, value)\n\u001b[1;32m    496\u001b[0m \u001b[38;5;66;03m# This SparkContext may be an existing one.\u001b[39;00m\n\u001b[0;32m--> 497\u001b[0m sc \u001b[38;5;241m=\u001b[39m \u001b[43mSparkContext\u001b[49m\u001b[38;5;241;43m.\u001b[39;49m\u001b[43mgetOrCreate\u001b[49m\u001b[43m(\u001b[49m\u001b[43msparkConf\u001b[49m\u001b[43m)\u001b[49m\n\u001b[1;32m    498\u001b[0m \u001b[38;5;66;03m# Do not update `SparkConf` for existing `SparkContext`, as it's shared\u001b[39;00m\n\u001b[1;32m    499\u001b[0m \u001b[38;5;66;03m# by all sessions.\u001b[39;00m\n\u001b[1;32m    500\u001b[0m session \u001b[38;5;241m=\u001b[39m SparkSession(sc, options\u001b[38;5;241m=\u001b[39m\u001b[38;5;28mself\u001b[39m\u001b[38;5;241m.\u001b[39m_options)\n",
      "File \u001b[0;32m~/miniconda3/envs/NLP310/lib/python3.10/site-packages/pyspark/context.py:515\u001b[0m, in \u001b[0;36mSparkContext.getOrCreate\u001b[0;34m(cls, conf)\u001b[0m\n\u001b[1;32m    513\u001b[0m \u001b[38;5;28;01mwith\u001b[39;00m SparkContext\u001b[38;5;241m.\u001b[39m_lock:\n\u001b[1;32m    514\u001b[0m     \u001b[38;5;28;01mif\u001b[39;00m SparkContext\u001b[38;5;241m.\u001b[39m_active_spark_context \u001b[38;5;129;01mis\u001b[39;00m \u001b[38;5;28;01mNone\u001b[39;00m:\n\u001b[0;32m--> 515\u001b[0m         \u001b[43mSparkContext\u001b[49m\u001b[43m(\u001b[49m\u001b[43mconf\u001b[49m\u001b[38;5;241;43m=\u001b[39;49m\u001b[43mconf\u001b[49m\u001b[43m \u001b[49m\u001b[38;5;129;43;01mor\u001b[39;49;00m\u001b[43m \u001b[49m\u001b[43mSparkConf\u001b[49m\u001b[43m(\u001b[49m\u001b[43m)\u001b[49m\u001b[43m)\u001b[49m\n\u001b[1;32m    516\u001b[0m     \u001b[38;5;28;01massert\u001b[39;00m SparkContext\u001b[38;5;241m.\u001b[39m_active_spark_context \u001b[38;5;129;01mis\u001b[39;00m \u001b[38;5;129;01mnot\u001b[39;00m \u001b[38;5;28;01mNone\u001b[39;00m\n\u001b[1;32m    517\u001b[0m     \u001b[38;5;28;01mreturn\u001b[39;00m SparkContext\u001b[38;5;241m.\u001b[39m_active_spark_context\n",
      "File \u001b[0;32m~/miniconda3/envs/NLP310/lib/python3.10/site-packages/pyspark/context.py:201\u001b[0m, in \u001b[0;36mSparkContext.__init__\u001b[0;34m(self, master, appName, sparkHome, pyFiles, environment, batchSize, serializer, conf, gateway, jsc, profiler_cls, udf_profiler_cls, memory_profiler_cls)\u001b[0m\n\u001b[1;32m    195\u001b[0m \u001b[38;5;28;01mif\u001b[39;00m gateway \u001b[38;5;129;01mis\u001b[39;00m \u001b[38;5;129;01mnot\u001b[39;00m \u001b[38;5;28;01mNone\u001b[39;00m \u001b[38;5;129;01mand\u001b[39;00m gateway\u001b[38;5;241m.\u001b[39mgateway_parameters\u001b[38;5;241m.\u001b[39mauth_token \u001b[38;5;129;01mis\u001b[39;00m \u001b[38;5;28;01mNone\u001b[39;00m:\n\u001b[1;32m    196\u001b[0m     \u001b[38;5;28;01mraise\u001b[39;00m \u001b[38;5;167;01mValueError\u001b[39;00m(\n\u001b[1;32m    197\u001b[0m         \u001b[38;5;124m\"\u001b[39m\u001b[38;5;124mYou are trying to pass an insecure Py4j gateway to Spark. This\u001b[39m\u001b[38;5;124m\"\u001b[39m\n\u001b[1;32m    198\u001b[0m         \u001b[38;5;124m\"\u001b[39m\u001b[38;5;124m is not allowed as it is a security risk.\u001b[39m\u001b[38;5;124m\"\u001b[39m\n\u001b[1;32m    199\u001b[0m     )\n\u001b[0;32m--> 201\u001b[0m \u001b[43mSparkContext\u001b[49m\u001b[38;5;241;43m.\u001b[39;49m\u001b[43m_ensure_initialized\u001b[49m\u001b[43m(\u001b[49m\u001b[38;5;28;43mself\u001b[39;49m\u001b[43m,\u001b[49m\u001b[43m \u001b[49m\u001b[43mgateway\u001b[49m\u001b[38;5;241;43m=\u001b[39;49m\u001b[43mgateway\u001b[49m\u001b[43m,\u001b[49m\u001b[43m \u001b[49m\u001b[43mconf\u001b[49m\u001b[38;5;241;43m=\u001b[39;49m\u001b[43mconf\u001b[49m\u001b[43m)\u001b[49m\n\u001b[1;32m    202\u001b[0m \u001b[38;5;28;01mtry\u001b[39;00m:\n\u001b[1;32m    203\u001b[0m     \u001b[38;5;28mself\u001b[39m\u001b[38;5;241m.\u001b[39m_do_init(\n\u001b[1;32m    204\u001b[0m         master,\n\u001b[1;32m    205\u001b[0m         appName,\n\u001b[0;32m   (...)\u001b[0m\n\u001b[1;32m    215\u001b[0m         memory_profiler_cls,\n\u001b[1;32m    216\u001b[0m     )\n",
      "File \u001b[0;32m~/miniconda3/envs/NLP310/lib/python3.10/site-packages/pyspark/context.py:436\u001b[0m, in \u001b[0;36mSparkContext._ensure_initialized\u001b[0;34m(cls, instance, gateway, conf)\u001b[0m\n\u001b[1;32m    434\u001b[0m \u001b[38;5;28;01mwith\u001b[39;00m SparkContext\u001b[38;5;241m.\u001b[39m_lock:\n\u001b[1;32m    435\u001b[0m     \u001b[38;5;28;01mif\u001b[39;00m \u001b[38;5;129;01mnot\u001b[39;00m SparkContext\u001b[38;5;241m.\u001b[39m_gateway:\n\u001b[0;32m--> 436\u001b[0m         SparkContext\u001b[38;5;241m.\u001b[39m_gateway \u001b[38;5;241m=\u001b[39m gateway \u001b[38;5;129;01mor\u001b[39;00m \u001b[43mlaunch_gateway\u001b[49m\u001b[43m(\u001b[49m\u001b[43mconf\u001b[49m\u001b[43m)\u001b[49m\n\u001b[1;32m    437\u001b[0m         SparkContext\u001b[38;5;241m.\u001b[39m_jvm \u001b[38;5;241m=\u001b[39m SparkContext\u001b[38;5;241m.\u001b[39m_gateway\u001b[38;5;241m.\u001b[39mjvm\n\u001b[1;32m    439\u001b[0m     \u001b[38;5;28;01mif\u001b[39;00m instance:\n",
      "File \u001b[0;32m~/miniconda3/envs/NLP310/lib/python3.10/site-packages/pyspark/java_gateway.py:104\u001b[0m, in \u001b[0;36mlaunch_gateway\u001b[0;34m(conf, popen_kwargs)\u001b[0m\n\u001b[1;32m    102\u001b[0m \u001b[38;5;66;03m# Wait for the file to appear, or for the process to exit, whichever happens first.\u001b[39;00m\n\u001b[1;32m    103\u001b[0m \u001b[38;5;28;01mwhile\u001b[39;00m \u001b[38;5;129;01mnot\u001b[39;00m proc\u001b[38;5;241m.\u001b[39mpoll() \u001b[38;5;129;01mand\u001b[39;00m \u001b[38;5;129;01mnot\u001b[39;00m os\u001b[38;5;241m.\u001b[39mpath\u001b[38;5;241m.\u001b[39misfile(conn_info_file):\n\u001b[0;32m--> 104\u001b[0m     \u001b[43mtime\u001b[49m\u001b[38;5;241;43m.\u001b[39;49m\u001b[43msleep\u001b[49m\u001b[43m(\u001b[49m\u001b[38;5;241;43m0.1\u001b[39;49m\u001b[43m)\u001b[49m\n\u001b[1;32m    106\u001b[0m \u001b[38;5;28;01mif\u001b[39;00m \u001b[38;5;129;01mnot\u001b[39;00m os\u001b[38;5;241m.\u001b[39mpath\u001b[38;5;241m.\u001b[39misfile(conn_info_file):\n\u001b[1;32m    107\u001b[0m     \u001b[38;5;28;01mraise\u001b[39;00m PySparkRuntimeError(\n\u001b[1;32m    108\u001b[0m         error_class\u001b[38;5;241m=\u001b[39m\u001b[38;5;124m\"\u001b[39m\u001b[38;5;124mJAVA_GATEWAY_EXITED\u001b[39m\u001b[38;5;124m\"\u001b[39m,\n\u001b[1;32m    109\u001b[0m         message_parameters\u001b[38;5;241m=\u001b[39m{},\n\u001b[1;32m    110\u001b[0m     )\n",
      "\u001b[0;31mKeyboardInterrupt\u001b[0m: "
     ]
    }
   ],
   "source": [
    "# ===== VERSIÓN LOCAL PARA macOS =====\n",
    "# (No necesitas sudo, apt, wget, etc. en Mac)\n",
    "\n",
    "# Solo instalar PySpark (ya lo tienes)\n",
    "# !pip install pyspark\n",
    "\n",
    "import os\n",
    "import sys\n",
    "\n",
    "# Configuración para macOS (en lugar de las rutas de Linux)\n",
    "os.environ[\"JAVA_HOME\"] = \"/usr\"  # Tu Java está aquí\n",
    "os.environ[\"PYSPARK_PYTHON\"] = sys.executable\n",
    "os.environ[\"PYSPARK_DRIVER_PYTHON\"] = sys.executable\n",
    "\n",
    "print(\"✅ Variables configuradas para macOS\")\n",
    "\n",
    "# No necesitas descargar Spark manualmente, PySpark ya lo incluye\n",
    "from pyspark.sql import DataFrame, SparkSession\n",
    "from typing import List\n",
    "import pyspark.sql.types as T\n",
    "import pyspark.sql.functions as F\n",
    "\n",
    "# Misma configuración que Colab pero adaptada\n",
    "spark = SparkSession \\\n",
    "    .builder \\\n",
    "    .appName(\"Ejercicio de Individual\") \\\n",
    "    .master(\"local[*]\") \\\n",
    "    .config(\"spark.driver.memory\", \"2g\") \\\n",
    "    .getOrCreate()\n",
    "\n",
    "spark.sparkContext.setLogLevel(\"ERROR\")\n",
    "\n",
    "print(\"🔥 ¡Spark funcionando localmente!\")\n",
    "spark"
   ]
  },
  {
   "cell_type": "code",
   "execution_count": 6,
   "metadata": {
    "colab": {
     "base_uri": "https://localhost:8080/"
    },
    "executionInfo": {
     "elapsed": 2427,
     "status": "ok",
     "timestamp": 1757634952812,
     "user": {
      "displayName": "Abraham Martínez Hernández",
      "userId": "14163405039713019918"
     },
     "user_tz": 360
    },
    "id": "O69OkCLaMf6F",
    "outputId": "2e119eb4-abf4-4f2d-b5b2-f951416ed414"
   },
   "outputs": [
    {
     "ename": "NameError",
     "evalue": "name 'spark' is not defined",
     "output_type": "error",
     "traceback": [
      "\u001b[0;31m---------------------------------------------------------------------------\u001b[0m",
      "\u001b[0;31mNameError\u001b[0m                                 Traceback (most recent call last)",
      "Cell \u001b[0;32mIn[6], line 11\u001b[0m\n\u001b[1;32m      3\u001b[0m \u001b[38;5;66;03m# Clientes: ClienteID, Nombre, Edad, Ciudad\u001b[39;00m\n\u001b[1;32m      4\u001b[0m clientes_data \u001b[38;5;241m=\u001b[39m [\n\u001b[1;32m      5\u001b[0m     Row(ClienteID\u001b[38;5;241m=\u001b[39m\u001b[38;5;241m1\u001b[39m, Nombre\u001b[38;5;241m=\u001b[39m\u001b[38;5;124m\"\u001b[39m\u001b[38;5;124mAna\u001b[39m\u001b[38;5;124m\"\u001b[39m,    Edad\u001b[38;5;241m=\u001b[39m\u001b[38;5;241m23\u001b[39m, Ciudad\u001b[38;5;241m=\u001b[39m\u001b[38;5;124m\"\u001b[39m\u001b[38;5;124mCDMX\u001b[39m\u001b[38;5;124m\"\u001b[39m),\n\u001b[1;32m      6\u001b[0m     Row(ClienteID\u001b[38;5;241m=\u001b[39m\u001b[38;5;241m2\u001b[39m, Nombre\u001b[38;5;241m=\u001b[39m\u001b[38;5;124m\"\u001b[39m\u001b[38;5;124mLuis\u001b[39m\u001b[38;5;124m\"\u001b[39m,   Edad\u001b[38;5;241m=\u001b[39m\u001b[38;5;241m29\u001b[39m, Ciudad\u001b[38;5;241m=\u001b[39m\u001b[38;5;124m\"\u001b[39m\u001b[38;5;124mGuadalajara\u001b[39m\u001b[38;5;124m\"\u001b[39m),\n\u001b[0;32m   (...)\u001b[0m\n\u001b[1;32m      9\u001b[0m     Row(ClienteID\u001b[38;5;241m=\u001b[39m\u001b[38;5;241m5\u001b[39m, Nombre\u001b[38;5;241m=\u001b[39m\u001b[38;5;124m\"\u001b[39m\u001b[38;5;124mMaría\u001b[39m\u001b[38;5;124m\"\u001b[39m,  Edad\u001b[38;5;241m=\u001b[39m\u001b[38;5;241m27\u001b[39m, Ciudad\u001b[38;5;241m=\u001b[39m\u001b[38;5;124m\"\u001b[39m\u001b[38;5;124mPuebla\u001b[39m\u001b[38;5;124m\"\u001b[39m)\n\u001b[1;32m     10\u001b[0m ]\n\u001b[0;32m---> 11\u001b[0m df_clientes \u001b[38;5;241m=\u001b[39m \u001b[43mspark\u001b[49m\u001b[38;5;241m.\u001b[39mcreateDataFrame(clientes_data)\n\u001b[1;32m     12\u001b[0m df_clientes\u001b[38;5;241m.\u001b[39mshow()\n\u001b[1;32m     14\u001b[0m \u001b[38;5;66;03m# Productos: ProductoID, Producto, Categoría, Precio\u001b[39;00m\n",
      "\u001b[0;31mNameError\u001b[0m: name 'spark' is not defined"
     ]
    }
   ],
   "source": [
    "from pyspark.sql import Row\n",
    "\n",
    "# Clientes: ClienteID, Nombre, Edad, Ciudad\n",
    "clientes_data = [\n",
    "    Row(ClienteID=1, Nombre=\"Ana\",    Edad=23, Ciudad=\"CDMX\"),\n",
    "    Row(ClienteID=2, Nombre=\"Luis\",   Edad=29, Ciudad=\"Guadalajara\"),\n",
    "    Row(ClienteID=3, Nombre=\"Sofía\",  Edad=21, Ciudad=\"Monterrey\"),\n",
    "    Row(ClienteID=4, Nombre=\"Diego\",  Edad=34, Ciudad=\"CDMX\"),\n",
    "    Row(ClienteID=5, Nombre=\"María\",  Edad=27, Ciudad=\"Puebla\")\n",
    "]\n",
    "df_clientes = spark.createDataFrame(clientes_data)\n",
    "df_clientes.show()\n",
    "\n",
    "# Productos: ProductoID, Producto, Categoría, Precio\n",
    "productos_data = [\n",
    "    Row(ProductoID=10, Producto=\"Teclado\",    Categoria=\"Accesorios\", Precio=350.0),\n",
    "    Row(ProductoID=11, Producto=\"Mouse\",      Categoria=\"Accesorios\", Precio=250.0),\n",
    "    Row(ProductoID=12, Producto=\"Monitor\",    Categoria=\"Pantallas\",  Precio=4200.0),\n",
    "    Row(ProductoID=13, Producto=\"Laptop\",     Categoria=\"Cómputo\",    Precio=18500.0),\n",
    "    Row(ProductoID=14, Producto=\"Audífonos\",  Categoria=\"Audio\",      Precio=900.0)\n",
    "]\n",
    "df_productos = spark.createDataFrame(productos_data)\n",
    "df_productos.show()\n",
    "\n",
    "# Compras: CompraID, ClienteID, ProductoID, Cantidad\n",
    "compras_data = [\n",
    "    Row(CompraID=100, ClienteID=1, ProductoID=11, Cantidad=2),\n",
    "    Row(CompraID=101, ClienteID=2, ProductoID=12, Cantidad=1),\n",
    "    Row(CompraID=102, ClienteID=2, ProductoID=10, Cantidad=1),\n",
    "    Row(CompraID=103, ClienteID=3, ProductoID=14, Cantidad=3),\n",
    "    Row(CompraID=104, ClienteID=4, ProductoID=13, Cantidad=1),\n",
    "    Row(CompraID=105, ClienteID=5, ProductoID=11, Cantidad=1),\n",
    "    Row(CompraID=106, ClienteID=5, ProductoID=12, Cantidad=2)\n",
    "]\n",
    "df_compras = spark.createDataFrame(compras_data)\n",
    "df_compras.show()"
   ]
  },
  {
   "cell_type": "code",
   "execution_count": null,
   "metadata": {},
   "outputs": [],
   "source": [
    "# CONFIGURACIÓN SIMPLE CON PYSPARK\n",
    "import os\n",
    "\n",
    "# Configurar Java (ya tienes Java 24 instalado)\n",
    "os.environ['JAVA_HOME'] = \"/usr\"\n",
    "\n",
    "from pyspark.sql import SparkSession\n",
    "from pyspark.sql import functions as F\n",
    "\n",
    "spark = SparkSession.builder \\\n",
    "    .appName(\"BigData\") \\\n",
    "    .master(\"local[*]\") \\\n",
    "    .getOrCreate()\n",
    "\n",
    "spark.sparkContext.setLogLevel(\"ERROR\")\n",
    "\n",
    "print(\"🔥 Spark funcionando!\")\n",
    "spark"
   ]
  },
  {
   "cell_type": "code",
   "execution_count": 44,
   "metadata": {
    "colab": {
     "base_uri": "https://localhost:8080/"
    },
    "executionInfo": {
     "elapsed": 2141,
     "status": "ok",
     "timestamp": 1757634954954,
     "user": {
      "displayName": "Abraham Martínez Hernández",
      "userId": "14163405039713019918"
     },
     "user_tz": 360
    },
    "id": "9s7w_N5aM55V",
    "outputId": "d496e316-be50-4959-a941-b060801d707b"
   },
   "outputs": [
    {
     "name": "stdout",
     "output_type": "stream",
     "text": [
      "root\n",
      " |-- ClienteID: long (nullable = true)\n",
      " |-- Ciudad: string (nullable = true)\n",
      " |-- Producto: string (nullable = true)\n",
      " |-- Categoria: string (nullable = true)\n",
      " |-- Cantidad: long (nullable = true)\n",
      " |-- Importe Total: double (nullable = true)\n",
      " |-- Edad: long (nullable = true)\n",
      " |-- Precio: double (nullable = true)\n",
      "\n",
      "+---------+-----------+---------+----------+--------+-------------+----+-------+\n",
      "|ClienteID|     Ciudad| Producto| Categoria|Cantidad|Importe Total|Edad| Precio|\n",
      "+---------+-----------+---------+----------+--------+-------------+----+-------+\n",
      "|        1|       CDMX|    Mouse|Accesorios|       2|        500.0|  23|  250.0|\n",
      "|        2|Guadalajara|  Monitor| Pantallas|       1|       4200.0|  29| 4200.0|\n",
      "|        2|Guadalajara|  Teclado|Accesorios|       1|        350.0|  29|  350.0|\n",
      "|        5|     Puebla|  Monitor| Pantallas|       2|       8400.0|  27| 4200.0|\n",
      "|        5|     Puebla|    Mouse|Accesorios|       1|        250.0|  27|  250.0|\n",
      "|        3|  Monterrey|Audífonos|     Audio|       3|       2700.0|  21|  900.0|\n",
      "|        4|       CDMX|   Laptop|   Cómputo|       1|      18500.0|  34|18500.0|\n",
      "+---------+-----------+---------+----------+--------+-------------+----+-------+\n",
      "\n"
     ]
    }
   ],
   "source": [
    "# =========================\n",
    "# JOIN de las 3 tablas\n",
    "# =========================\n",
    "# Queremos ver: ClienteID, Ciudad, Producto, Categoría, Cantidad y el Importe total de la compra.\n",
    "from pyspark.sql.functions import col\n",
    "df_join = df_compras.join(df_productos, on=\"ProductoID\", how=\"inner\")\\\n",
    "              .join(df_clientes, on=\"ClienteID\", how=\"inner\")\\\n",
    "              .select(\n",
    "                 col(\"ClienteID\"),\n",
    "                 col(\"Ciudad\"),\n",
    "                 col(\"Producto\"),\n",
    "                 col(\"Categoria\"),\n",
    "                 col(\"Cantidad\"),\n",
    "                 (col(\"Cantidad\") * col(\"Precio\")).alias(\"Importe Total\"),\n",
    "                 col(\"Edad\"),\n",
    "                 col(\"Precio\")\n",
    "              )\n",
    "\n",
    "\n",
    "df_join.printSchema()\n",
    "df_join.show()"
   ]
  },
  {
   "cell_type": "markdown",
   "metadata": {
    "id": "B-zKxU-sOBzm"
   },
   "source": [
    "El objetivo será:\n",
    "\n",
    "Filtrar clientes mayores de 25 años.\n",
    "\n",
    "Filtrar compras solo de productos cuyo precio sea mayor a 1000.\n",
    "\n",
    "Agrupar por ciudad y calcular el gasto total de los clientes de esa ciudad."
   ]
  },
  {
   "cell_type": "code",
   "execution_count": 45,
   "metadata": {
    "colab": {
     "base_uri": "https://localhost:8080/"
    },
    "executionInfo": {
     "elapsed": 6661,
     "status": "ok",
     "timestamp": 1757634961617,
     "user": {
      "displayName": "Abraham Martínez Hernández",
      "userId": "14163405039713019918"
     },
     "user_tz": 360
    },
    "id": "EaLFpQ_pOAy-",
    "outputId": "4c347f18-967c-4309-e23b-b1ab58aa635a"
   },
   "outputs": [
    {
     "name": "stdout",
     "output_type": "stream",
     "text": [
      "+---------+-----------+--------+----------+--------+-------------+----+-------+\n",
      "|ClienteID|     Ciudad|Producto| Categoria|Cantidad|Importe Total|Edad| Precio|\n",
      "+---------+-----------+--------+----------+--------+-------------+----+-------+\n",
      "|        2|Guadalajara| Monitor| Pantallas|       1|       4200.0|  29| 4200.0|\n",
      "|        2|Guadalajara| Teclado|Accesorios|       1|        350.0|  29|  350.0|\n",
      "|        5|     Puebla| Monitor| Pantallas|       2|       8400.0|  27| 4200.0|\n",
      "|        5|     Puebla|   Mouse|Accesorios|       1|        250.0|  27|  250.0|\n",
      "|        4|       CDMX|  Laptop|   Cómputo|       1|      18500.0|  34|18500.0|\n",
      "+---------+-----------+--------+----------+--------+-------------+----+-------+\n",
      "\n",
      "+---------+-----------+--------+---------+--------+-------------+----+-------+\n",
      "|ClienteID|     Ciudad|Producto|Categoria|Cantidad|Importe Total|Edad| Precio|\n",
      "+---------+-----------+--------+---------+--------+-------------+----+-------+\n",
      "|        2|Guadalajara| Monitor|Pantallas|       1|       4200.0|  29| 4200.0|\n",
      "|        5|     Puebla| Monitor|Pantallas|       2|       8400.0|  27| 4200.0|\n",
      "|        4|       CDMX|  Laptop|  Cómputo|       1|      18500.0|  34|18500.0|\n",
      "+---------+-----------+--------+---------+--------+-------------+----+-------+\n",
      "\n"
     ]
    }
   ],
   "source": [
    "# =========================\n",
    "# WHERE: clientes mayores de 25 años\n",
    "# =========================\n",
    "df_join.where(col(\"Edad\")>25).show()\n",
    "\n",
    "# =========================\n",
    "# FILTER: compras con productos de precio > 1000\n",
    "# =========================\n",
    "df_join.filter(col(\"Precio\")>1000).show()\n",
    "\n"
   ]
  },
  {
   "cell_type": "code",
   "execution_count": 46,
   "metadata": {
    "colab": {
     "base_uri": "https://localhost:8080/"
    },
    "executionInfo": {
     "elapsed": 4029,
     "status": "ok",
     "timestamp": 1757634965647,
     "user": {
      "displayName": "Abraham Martínez Hernández",
      "userId": "14163405039713019918"
     },
     "user_tz": 360
    },
    "id": "3z7kZ6SiOOrB",
    "outputId": "dc555d7c-5d68-44bf-cb2a-80d65a4d29e2"
   },
   "outputs": [
    {
     "name": "stdout",
     "output_type": "stream",
     "text": [
      "+-----------+-----------+\n",
      "|     Ciudad|Gasto Total|\n",
      "+-----------+-----------+\n",
      "|  Monterrey|     2700.0|\n",
      "|Guadalajara|     4550.0|\n",
      "|     Puebla|     8650.0|\n",
      "|       CDMX|    19000.0|\n",
      "+-----------+-----------+\n",
      "\n"
     ]
    }
   ],
   "source": [
    "from pyspark.sql.functions import col, sum\n",
    "\n",
    "# =========================\n",
    "# 3) GROUP BY: gasto total por ciudad\n",
    "# =========================\n",
    "\n",
    "df_join.groupBy(col(\"Ciudad\")).agg(sum(\"Importe Total\").alias(\"Gasto Total\")).show()"
   ]
  },
  {
   "cell_type": "markdown",
   "metadata": {
    "id": "SpdlzqWOO2PS"
   },
   "source": [
    "#Ejercicio “360° de Ventas”\n",
    "\n",
    "Datasets (los mismos que definimos: df_clientes, df_productos, df_compras).\n",
    "\n",
    "Objetivo\n",
    "\n",
    "Construir, paso a paso, un reporte final por Ciudad x Categoría con:\n",
    "\n",
    "Total de ventas (suma de Cantidad * Precio)\n",
    "\n",
    "Ticket promedio por compra en esa combinación\n",
    "\n",
    "Número de clientes distintos que compraron\n",
    "\n",
    "Producto más vendido por cantidad dentro de la categoría (sin usar ventanas; solo groupBy + join)\n",
    "\n",
    "Cliente top por gasto dentro de esa categoría (también sin ventanas)\n",
    "\n",
    "Nota: “más vendido” = mayor cantidad total. “Top por gasto” = mayor suma de importe."
   ]
  },
  {
   "cell_type": "code",
   "execution_count": 47,
   "metadata": {
    "colab": {
     "base_uri": "https://localhost:8080/"
    },
    "executionInfo": {
     "elapsed": 2416,
     "status": "ok",
     "timestamp": 1757634968065,
     "user": {
      "displayName": "Abraham Martínez Hernández",
      "userId": "14163405039713019918"
     },
     "user_tz": 360
    },
    "id": "zTZdA0VxOQKf",
    "outputId": "364dce65-a914-4f39-b6ca-e3bd6c11fefe"
   },
   "outputs": [
    {
     "name": "stdout",
     "output_type": "stream",
     "text": [
      "+----------+---------+------+----+-----------+--------+--------+---------+----------+-------+-------------+\n",
      "|ProductoID|ClienteID|Nombre|Edad|     Ciudad|CompraID|Cantidad| Producto| Categoria| Precio|Importe total|\n",
      "+----------+---------+------+----+-----------+--------+--------+---------+----------+-------+-------------+\n",
      "|        10|        2|  Luis|  29|Guadalajara|     102|       1|  Teclado|Accesorios|  350.0|        350.0|\n",
      "|        11|        5| María|  27|     Puebla|     105|       1|    Mouse|Accesorios|  250.0|        250.0|\n",
      "|        11|        1|   Ana|  23|       CDMX|     100|       2|    Mouse|Accesorios|  250.0|        500.0|\n",
      "|        12|        5| María|  27|     Puebla|     106|       2|  Monitor| Pantallas| 4200.0|       8400.0|\n",
      "|        12|        2|  Luis|  29|Guadalajara|     101|       1|  Monitor| Pantallas| 4200.0|       4200.0|\n",
      "|        13|        4| Diego|  34|       CDMX|     104|       1|   Laptop|   Cómputo|18500.0|      18500.0|\n",
      "|        14|        3| Sofía|  21|  Monterrey|     103|       3|Audífonos|     Audio|  900.0|       2700.0|\n",
      "+----------+---------+------+----+-----------+--------+--------+---------+----------+-------+-------------+\n",
      "\n"
     ]
    }
   ],
   "source": [
    "from pyspark.sql import functions as F\n",
    "\n",
    "# =========================\n",
    "# 0) Punto de partida\n",
    "# =========================\n",
    "# Se asume que ya tienes:\n",
    "# df_clientes (ClienteID, Nombre, Edad, Ciudad)\n",
    "# df_productos (ProductoID, Producto, Categoria, Precio)\n",
    "# df_compras  (CompraID, ClienteID, ProductoID, Cantidad)\n",
    "\n",
    "# Chequeo rápido\n",
    "# df_clientes.show(); df_productos.show(); df_compras.show()\n",
    "\n",
    "# =========================\n",
    "# 1) Enriquecer compras con precio e info de cliente/producto\n",
    "# =========================\n",
    "\n",
    "\n",
    "df_enriquecer = df_clientes.join(df_compras,on=\"ClienteID\",how=\"inner\")\n",
    "\n",
    "df_enriquecer = df_enriquecer.join(df_productos,on=\"ProductoID\",how=\"inner\")\n",
    "\n",
    "df_enriquecerimporte = df_enriquecer.withColumn(\"Importe total\", col(\"Cantidad\")*col(\"Precio\"))\n",
    "\n",
    "\n",
    "#withcolumn agrega nueva columna\n",
    "\n",
    "df_enriquecerimporte.show()"
   ]
  },
  {
   "cell_type": "code",
   "execution_count": 48,
   "metadata": {
    "colab": {
     "base_uri": "https://localhost:8080/"
    },
    "executionInfo": {
     "elapsed": 2599,
     "status": "ok",
     "timestamp": 1757634970666,
     "user": {
      "displayName": "Abraham Martínez Hernández",
      "userId": "14163405039713019918"
     },
     "user_tz": 360
    },
    "id": "az-lBNaOWIsc",
    "outputId": "fdfae483-5bbb-49dd-880a-8f220c5e955e"
   },
   "outputs": [
    {
     "name": "stdout",
     "output_type": "stream",
     "text": [
      "+----------+---------+------+----+-----------+--------+--------+---------+----------+-------+\n",
      "|ProductoID|ClienteID|Nombre|Edad|     Ciudad|CompraID|Cantidad| Producto| Categoria| Precio|\n",
      "+----------+---------+------+----+-----------+--------+--------+---------+----------+-------+\n",
      "|        10|        2|  Luis|  29|Guadalajara|     102|       1|  Teclado|Accesorios|  350.0|\n",
      "|        11|        5| María|  27|     Puebla|     105|       1|    Mouse|Accesorios|  250.0|\n",
      "|        11|        1|   Ana|  23|       CDMX|     100|       2|    Mouse|Accesorios|  250.0|\n",
      "|        12|        5| María|  27|     Puebla|     106|       2|  Monitor| Pantallas| 4200.0|\n",
      "|        12|        2|  Luis|  29|Guadalajara|     101|       1|  Monitor| Pantallas| 4200.0|\n",
      "|        13|        4| Diego|  34|       CDMX|     104|       1|   Laptop|   Cómputo|18500.0|\n",
      "|        14|        3| Sofía|  21|  Monterrey|     103|       3|Audífonos|     Audio|  900.0|\n",
      "+----------+---------+------+----+-----------+--------+--------+---------+----------+-------+\n",
      "\n"
     ]
    }
   ],
   "source": [
    "\n",
    "# =========================\n",
    "# 2) Filtrar calidad de datos (opcional, pero parte del ejercicio)\n",
    "# - compras con Cantidad > 0 y Precio > 0\n",
    "# - edades razonables (>= 18)\n",
    "# =========================\n",
    "\n",
    "\n",
    "from pyspark.sql.functions import col\n",
    "\n",
    "df_cantidad_mayor_0 = df_enriquecer.where(\n",
    "    (col(\"Cantidad\") > 0) & (col(\"Precio\") > 0) & (col(\"Edad\") >= 18)\n",
    ")\n",
    "\n",
    "df_cantidad_mayor_0.show()\n",
    "\n"
   ]
  },
  {
   "cell_type": "code",
   "execution_count": 49,
   "metadata": {
    "colab": {
     "base_uri": "https://localhost:8080/"
    },
    "executionInfo": {
     "elapsed": 3053,
     "status": "ok",
     "timestamp": 1757634973721,
     "user": {
      "displayName": "Abraham Martínez Hernández",
      "userId": "14163405039713019918"
     },
     "user_tz": 360
    },
    "id": "P33pImWKWIzu",
    "outputId": "b2c1c90b-f5cf-4767-da6a-d60b6eccff49"
   },
   "outputs": [
    {
     "name": "stdout",
     "output_type": "stream",
     "text": [
      "+-----------+----------+--------------+---------------+------------------+\n",
      "|     Ciudad| Categoria|Ventas Totales|Ticket Promedio|Clientes Distintos|\n",
      "+-----------+----------+--------------+---------------+------------------+\n",
      "|       CDMX|   Cómputo|       18500.0|        18500.0|                 1|\n",
      "|  Monterrey|     Audio|        2700.0|         2700.0|                 1|\n",
      "|Guadalajara|Accesorios|         350.0|          350.0|                 1|\n",
      "|     Puebla|Accesorios|         250.0|          250.0|                 1|\n",
      "|     Puebla| Pantallas|        8400.0|         8400.0|                 1|\n",
      "|Guadalajara| Pantallas|        4200.0|         4200.0|                 1|\n",
      "|       CDMX|Accesorios|         500.0|          500.0|                 1|\n",
      "+-----------+----------+--------------+---------------+------------------+\n",
      "\n"
     ]
    }
   ],
   "source": [
    "# =========================\n",
    "# 3) Métricas base por Ciudad x Categoria\n",
    "# - Ventas totales\n",
    "# - Ticket promedio (Importe promedio por compra)\n",
    "# - Clientes distintos\n",
    "# =========================\n",
    "\n",
    "df_metricas = df_enriquecerimporte.groupBy(\"Ciudad\", \"Categoria\").agg(\n",
    "    F.sum(\"Importe total\").alias(\"Ventas Totales\"),\n",
    "    F.avg(\"Importe total\").alias(\"Ticket Promedio\"),\n",
    "    F.countDistinct(\"ClienteID\").alias(\"Clientes Distintos\")\n",
    ")\n",
    "\n",
    "df_metricas.show()"
   ]
  },
  {
   "cell_type": "code",
   "execution_count": 50,
   "metadata": {
    "executionInfo": {
     "elapsed": 1,
     "status": "ok",
     "timestamp": 1757634973724,
     "user": {
      "displayName": "Abraham Martínez Hernández",
      "userId": "14163405039713019918"
     },
     "user_tz": 360
    },
    "id": "CzDZZHnkWI4S"
   },
   "outputs": [],
   "source": [
    "# =========================\n",
    "# 4) Producto más vendido (por cantidad) en cada Ciudad x Categoria\n",
    "#    4.1) Cantidad total por Ciudad x Categoria x Producto\n",
    "#    4.2) Máximo por Ciudad x Categoria\n",
    "#    4.3) Join para quedarnos con el/los producto(s) que logran ese máximo\n",
    "# =========================\n",
    "\n"
   ]
  },
  {
   "cell_type": "code",
   "execution_count": 51,
   "metadata": {
    "colab": {
     "base_uri": "https://localhost:8080/"
    },
    "executionInfo": {
     "elapsed": 3596,
     "status": "ok",
     "timestamp": 1757634977321,
     "user": {
      "displayName": "Abraham Martínez Hernández",
      "userId": "14163405039713019918"
     },
     "user_tz": 360
    },
    "id": "94f766b3",
    "outputId": "78d9b999-da82-4b89-bc3f-e40eb1490b12"
   },
   "outputs": [
    {
     "name": "stdout",
     "output_type": "stream",
     "text": [
      "+-----------+----------+---------+--------------+\n",
      "|     Ciudad| Categoria| Producto|Cantidad Total|\n",
      "+-----------+----------+---------+--------------+\n",
      "|Guadalajara|Accesorios|  Teclado|             1|\n",
      "|Guadalajara| Pantallas|  Monitor|             1|\n",
      "|     Puebla| Pantallas|  Monitor|             2|\n",
      "|  Monterrey|     Audio|Audífonos|             3|\n",
      "|     Puebla|Accesorios|    Mouse|             1|\n",
      "|       CDMX|   Cómputo|   Laptop|             1|\n",
      "|       CDMX|Accesorios|    Mouse|             2|\n",
      "+-----------+----------+---------+--------------+\n",
      "\n"
     ]
    }
   ],
   "source": [
    "# =========================\n",
    "# 4) Producto más vendido (por cantidad) en cada Ciudad x Categoria\n",
    "#    4.1) Cantidad total por Ciudad x Categoria x Producto\n",
    "# =========================\n",
    "\n",
    "df_cantidad_tot= df_enriquecerimporte.groupBy(\"Ciudad\", \"Categoria\", \"Producto\").agg(\n",
    "    F.sum(\"Cantidad\").alias(\"Cantidad Total\")\n",
    ")\n",
    "\n",
    "df_cantidad_tot.show()"
   ]
  },
  {
   "cell_type": "code",
   "execution_count": 52,
   "metadata": {
    "colab": {
     "base_uri": "https://localhost:8080/"
    },
    "executionInfo": {
     "elapsed": 1863,
     "status": "ok",
     "timestamp": 1757634979186,
     "user": {
      "displayName": "Abraham Martínez Hernández",
      "userId": "14163405039713019918"
     },
     "user_tz": 360
    },
    "id": "8b26f905",
    "outputId": "c7ec27d2-c66f-45e4-eadc-20ab8edabacb"
   },
   "outputs": [
    {
     "name": "stdout",
     "output_type": "stream",
     "text": [
      "+-----------+----------+-----------------------------+\n",
      "|     Ciudad| Categoria|Máximo por Ciudad x Categoria|\n",
      "+-----------+----------+-----------------------------+\n",
      "|       CDMX|   Cómputo|                            1|\n",
      "|  Monterrey|     Audio|                            3|\n",
      "|Guadalajara|Accesorios|                            1|\n",
      "|     Puebla|Accesorios|                            1|\n",
      "|     Puebla| Pantallas|                            2|\n",
      "|Guadalajara| Pantallas|                            1|\n",
      "|       CDMX|Accesorios|                            2|\n",
      "+-----------+----------+-----------------------------+\n",
      "\n"
     ]
    }
   ],
   "source": [
    "#    4.2) Máximo por Ciudad x Categoria\n",
    "# =========================\n",
    "\n",
    "df_max_cantidad_categoria = df_cantidad_tot.groupBy(\"Ciudad\", \"Categoria\").agg(\n",
    "    F.max(\"Cantidad Total\").alias(\"Máximo por Ciudad x Categoria\")\n",
    ")\n",
    "\n",
    "df_max_cantidad_categoria.show()"
   ]
  },
  {
   "cell_type": "code",
   "execution_count": 53,
   "metadata": {
    "colab": {
     "base_uri": "https://localhost:8080/"
    },
    "executionInfo": {
     "elapsed": 2973,
     "status": "ok",
     "timestamp": 1757634982158,
     "user": {
      "displayName": "Abraham Martínez Hernández",
      "userId": "14163405039713019918"
     },
     "user_tz": 360
    },
    "id": "f1cc4489",
    "outputId": "9d37ce70-b378-4eab-8772-4f0460d42f47"
   },
   "outputs": [
    {
     "name": "stdout",
     "output_type": "stream",
     "text": [
      "+---------+-----------+----------+--------------------+\n",
      "| Producto|     Ciudad| Categoria|Cantidad Mas Vendida|\n",
      "+---------+-----------+----------+--------------------+\n",
      "|  Teclado|Guadalajara|Accesorios|                   1|\n",
      "|  Monitor|Guadalajara| Pantallas|                   1|\n",
      "|  Monitor|     Puebla| Pantallas|                   2|\n",
      "|Audífonos|  Monterrey|     Audio|                   3|\n",
      "|    Mouse|     Puebla|Accesorios|                   1|\n",
      "|   Laptop|       CDMX|   Cómputo|                   1|\n",
      "|    Mouse|       CDMX|Accesorios|                   2|\n",
      "+---------+-----------+----------+--------------------+\n",
      "\n"
     ]
    }
   ],
   "source": [
    "#    4.3) Join para quedarnos con el/los producto(s) que logran ese máximo\n",
    "# =========================\n",
    "\n",
    "df_producto_mas_vendido = df_cantidad_tot.join(\n",
    "    df_max_cantidad_categoria,on=[\"Ciudad\", \"Categoria\"],how=\"inner\"\n",
    ").where(\n",
    "    df_cantidad_tot[\"Cantidad Total\"] == df_max_cantidad_categoria[\"Máximo por Ciudad x Categoria\"]\n",
    ").select(\n",
    "    df_cantidad_tot[\"Producto\"],\n",
    "    df_cantidad_tot[\"Ciudad\"],\n",
    "    df_cantidad_tot[\"Categoria\"],\n",
    "\n",
    "    df_cantidad_tot[\"Cantidad Total\"].alias(\"Cantidad Mas Vendida\")\n",
    ")\n",
    "\n",
    "df_producto_mas_vendido.show()"
   ]
  },
  {
   "cell_type": "code",
   "execution_count": 54,
   "metadata": {
    "executionInfo": {
     "elapsed": 2,
     "status": "ok",
     "timestamp": 1757634982160,
     "user": {
      "displayName": "Abraham Martínez Hernández",
      "userId": "14163405039713019918"
     },
     "user_tz": 360
    },
    "id": "Xj0ukY1DWI89"
   },
   "outputs": [],
   "source": [
    "# =========================\n",
    "# 5) Cliente top por gasto dentro de cada Ciudad x Categoria\n",
    "#    5.1) Gasto por Ciudad x Categoria x Cliente\n",
    "#    5.2) Máximo gasto por Ciudad x Categoria\n",
    "#    5.3) Join para recuperar el/los clientes top\n",
    "# =========================\n",
    "\n"
   ]
  },
  {
   "cell_type": "code",
   "execution_count": 55,
   "metadata": {
    "colab": {
     "base_uri": "https://localhost:8080/"
    },
    "executionInfo": {
     "elapsed": 2122,
     "status": "ok",
     "timestamp": 1757634984283,
     "user": {
      "displayName": "Abraham Martínez Hernández",
      "userId": "14163405039713019918"
     },
     "user_tz": 360
    },
    "id": "0f6405a2",
    "outputId": "6885d828-4f4d-4b37-ab4e-0cdfbde1ce76"
   },
   "outputs": [
    {
     "name": "stdout",
     "output_type": "stream",
     "text": [
      "+-----------+----------+---------+------+-------------------+\n",
      "|     Ciudad| Categoria|ClienteID|Nombre|Gasto Total Cliente|\n",
      "+-----------+----------+---------+------+-------------------+\n",
      "|       CDMX|   Cómputo|        4| Diego|            18500.0|\n",
      "|       CDMX|Accesorios|        1|   Ana|              500.0|\n",
      "|Guadalajara| Pantallas|        2|  Luis|             4200.0|\n",
      "|Guadalajara|Accesorios|        2|  Luis|              350.0|\n",
      "|     Puebla| Pantallas|        5| María|             8400.0|\n",
      "|  Monterrey|     Audio|        3| Sofía|             2700.0|\n",
      "|     Puebla|Accesorios|        5| María|              250.0|\n",
      "+-----------+----------+---------+------+-------------------+\n",
      "\n"
     ]
    }
   ],
   "source": [
    "# =========================\n",
    "# 5) Cliente top por gasto dentro de cada Ciudad x Categoria\n",
    "#    5.1) Gasto por Ciudad x Categoria x Cliente\n",
    "# =========================\n",
    "\n",
    "df_gasto_por_cliente = df_enriquecerimporte.groupBy(\"Ciudad\", \"Categoria\", \"ClienteID\", \"Nombre\").agg(\n",
    "    F.sum(\"Importe total\").alias(\"Gasto Total Cliente\")\n",
    ")\n",
    "\n",
    "df_gasto_por_cliente.show()"
   ]
  },
  {
   "cell_type": "code",
   "execution_count": 56,
   "metadata": {
    "colab": {
     "base_uri": "https://localhost:8080/"
    },
    "executionInfo": {
     "elapsed": 1844,
     "status": "ok",
     "timestamp": 1757634986128,
     "user": {
      "displayName": "Abraham Martínez Hernández",
      "userId": "14163405039713019918"
     },
     "user_tz": 360
    },
    "id": "02a71872",
    "outputId": "d96f65b5-5576-4418-eb3e-1052cc4772f1"
   },
   "outputs": [
    {
     "name": "stdout",
     "output_type": "stream",
     "text": [
      "+-----------+----------+---------------------+\n",
      "|     Ciudad| Categoria|Max Gasto x Categoria|\n",
      "+-----------+----------+---------------------+\n",
      "|       CDMX|   Cómputo|              18500.0|\n",
      "|  Monterrey|     Audio|               2700.0|\n",
      "|Guadalajara|Accesorios|                350.0|\n",
      "|     Puebla|Accesorios|                250.0|\n",
      "|     Puebla| Pantallas|               8400.0|\n",
      "|Guadalajara| Pantallas|               4200.0|\n",
      "|       CDMX|Accesorios|                500.0|\n",
      "+-----------+----------+---------------------+\n",
      "\n"
     ]
    }
   ],
   "source": [
    "#    5.2) Máximo gasto por Ciudad x Categoria\n",
    "# =========================\n",
    "\n",
    "df_max_gasto_categoria = df_gasto_por_cliente.groupBy(\"Ciudad\", \"Categoria\").agg(\n",
    "    F.max(\"Gasto Total Cliente\").alias(\"Max Gasto x Categoria\")\n",
    ")\n",
    "\n",
    "df_max_gasto_categoria.show()"
   ]
  },
  {
   "cell_type": "code",
   "execution_count": 57,
   "metadata": {
    "colab": {
     "base_uri": "https://localhost:8080/"
    },
    "executionInfo": {
     "elapsed": 2454,
     "status": "ok",
     "timestamp": 1757634988584,
     "user": {
      "displayName": "Abraham Martínez Hernández",
      "userId": "14163405039713019918"
     },
     "user_tz": 360
    },
    "id": "5eca2313",
    "outputId": "65214941-9536-4e08-c330-3a459b8f9e52"
   },
   "outputs": [
    {
     "name": "stdout",
     "output_type": "stream",
     "text": [
      "+------+-----------+----------+---------+-----------+\n",
      "|Nombre|     Ciudad| Categoria|ClienteID|Top Cliente|\n",
      "+------+-----------+----------+---------+-----------+\n",
      "| Diego|       CDMX|   Cómputo|        4|    18500.0|\n",
      "|   Ana|       CDMX|Accesorios|        1|      500.0|\n",
      "|  Luis|Guadalajara| Pantallas|        2|     4200.0|\n",
      "|  Luis|Guadalajara|Accesorios|        2|      350.0|\n",
      "| María|     Puebla| Pantallas|        5|     8400.0|\n",
      "| Sofía|  Monterrey|     Audio|        3|     2700.0|\n",
      "| María|     Puebla|Accesorios|        5|      250.0|\n",
      "+------+-----------+----------+---------+-----------+\n",
      "\n"
     ]
    }
   ],
   "source": [
    "#    5.3) Join para recuperar el/los clientes top\n",
    "# =========================\n",
    "\n",
    "df_cliente_top_gasto = df_gasto_por_cliente.join(\n",
    "    df_max_gasto_categoria,\n",
    "    on=[\"Ciudad\", \"Categoria\"],\n",
    "    how=\"inner\"\n",
    ").where(\n",
    "    F.col(\"Gasto Total Cliente\") == F.col(\"Max Gasto x Categoria\")\n",
    ").select(\n",
    "    df_gasto_por_cliente[\"Nombre\"],\n",
    "    df_gasto_por_cliente[\"Ciudad\"],\n",
    "    df_gasto_por_cliente[\"Categoria\"],\n",
    "    df_gasto_por_cliente[\"ClienteID\"],\n",
    "    df_gasto_por_cliente[\"Gasto Total Cliente\"].alias(\"Top Cliente\")\n",
    ")\n",
    "\n",
    "df_cliente_top_gasto.show()"
   ]
  }
 ],
 "metadata": {
  "colab": {
   "provenance": [
    {
     "file_id": "1Z706ULCLPtPsRyMJIGQMSuOW6bkXaIUU",
     "timestamp": 1757384909819
    },
    {
     "file_id": "1QgcLZQiSGYjj-VTjFxU7-AdJUomdFTiB",
     "timestamp": 1757115357961
    }
   ]
  },
  "kernelspec": {
   "display_name": "Python 3",
   "name": "python3"
  },
  "language_info": {
   "codemirror_mode": {
    "name": "ipython",
    "version": 3
   },
   "file_extension": ".py",
   "mimetype": "text/x-python",
   "name": "python",
   "nbconvert_exporter": "python",
   "pygments_lexer": "ipython3",
   "version": "3.10.16"
  }
 },
 "nbformat": 4,
 "nbformat_minor": 0
}
